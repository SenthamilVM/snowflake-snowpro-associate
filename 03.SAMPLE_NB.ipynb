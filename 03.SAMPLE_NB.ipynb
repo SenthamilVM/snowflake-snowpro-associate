{
 "metadata": {
  "kernelspec": {
   "display_name": "Streamlit Notebook",
   "name": "streamlit"
  },
  "lastEditStatus": {
   "notebookId": "ia6p5ymmjtfafnnottlv",
   "authorId": "3709492240393",
   "authorName": "SNOWPROTRAINING",
   "authorEmail": "senthamilvm@gmail.com",
   "sessionId": "5c2472b7-8731-4b3c-9e69-951fc466f1e1",
   "lastEditTime": 1756045692670
  }
 },
 "nbformat_minor": 5,
 "nbformat": 4,
 "cells": [
  {
   "cell_type": "markdown",
   "id": "9cb0c54f-7e78-4615-bca1-3e9583acb8ee",
   "metadata": {
    "name": "cell4",
    "collapsed": false
   },
   "source": "# Hello World: Notebook"
  },
  {
   "cell_type": "code",
   "id": "475de167-26ac-4019-a91f-2b33a322258f",
   "metadata": {
    "language": "python",
    "name": "cell5"
   },
   "outputs": [],
   "source": "# import Pyhton packages\nimport streamlit as st\nimport pandas as pd\n\n# We can also use snowpark for our analysis\nfrom snowflake.snowpark.context import get_active_session\nsession = get_active_session()",
   "execution_count": null
  },
  {
   "cell_type": "code",
   "id": "ae6e84be-fee3-4d9a-9d25-f3337e389a55",
   "metadata": {
    "language": "sql",
    "name": "cell1"
   },
   "outputs": [],
   "source": "--Using SQL to generate some data\nSELECT 'FRIDAY' as SNOWDAY, 0.2 as CHANCE_OF_SNOW\nUNION ALL\nSELECT 'SATURDAY', 0.5\nUNION ALL\nSELECT 'SUNDAY', 0.7;",
   "execution_count": null
  },
  {
   "cell_type": "code",
   "id": "4540f594-6a6a-4d1f-9916-ec5d24e19333",
   "metadata": {
    "language": "python",
    "name": "cell6",
    "codeCollapsed": false
   },
   "outputs": [],
   "source": "# Converting SQL table to dataframe\nmy_df = cell1.to_pandas()\n# print (my_df)\n\n#Showing Chances of Snow in chart\nst.subheader ('Showing days which SNOW')\nst.line_chart(my_df, x = 'SNOWDAY', y = 'CHANCE_OF_SNOW')",
   "execution_count": null
  }
 ]
}